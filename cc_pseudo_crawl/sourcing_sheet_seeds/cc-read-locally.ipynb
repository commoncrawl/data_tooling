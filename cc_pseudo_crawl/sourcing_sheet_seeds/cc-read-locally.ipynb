{
 "cells": [
  {
   "cell_type": "markdown",
   "id": "raising-simon",
   "metadata": {},
   "source": [
    "# Processing the Joined Table Locally\n",
    "\n",
    "Alternatively to processing the joined table using big data tools (eg., Spark, Athena/Presto) it's possible to inspect or process the table locally. See the [general instructions](../README.md)) how the joined table was created.\n",
    "\n",
    "First, you need to copy the table to your local file system:\n",
    "```\n",
    "aws s3 sync s3://bucket/path/cc/ data-sourcing-sheet/cc/\n",
    "```\n",
    "Please change the local path (`data-sourcing-sheet/cc/`) if needed.\n",
    "\n",
    "We now load the table from the local path, filtering on the fly only successfully fetched URLs (`subset=warc`):"
   ]
  },
  {
   "cell_type": "code",
   "execution_count": 1,
   "id": "stuck-independence",
   "metadata": {},
   "outputs": [
    {
     "data": {
      "text/plain": [
       "<pyarrow._parquet.ParquetSchema object at 0x7f4f508fd480>\n",
       "required group field_id=-1 hive_schema {\n",
       "  optional int32 field_id=-1 id;\n",
       "  optional binary field_id=-1 title (String);\n",
       "  optional binary field_id=-1 link (String);\n",
       "  optional binary field_id=-1 language (String);\n",
       "  optional binary field_id=-1 url_surtkey_prefix (String);\n",
       "  optional binary field_id=-1 url_surtkey (String);\n",
       "  optional binary field_id=-1 url_host_tld (String);\n",
       "  optional binary field_id=-1 url_host_registered_domain (String);\n",
       "  optional binary field_id=-1 url_host_name (String);\n",
       "  optional binary field_id=-1 url (String);\n",
       "  optional int32 field_id=-1 fetch_status;\n",
       "  optional int96 field_id=-1 fetch_time;\n",
       "  optional binary field_id=-1 warc_filename (String);\n",
       "  optional int32 field_id=-1 warc_record_offset;\n",
       "  optional int32 field_id=-1 warc_record_length;\n",
       "  optional binary field_id=-1 fetch_redirect (String);\n",
       "  optional binary field_id=-1 content_mime_detected (String);\n",
       "  optional binary field_id=-1 content_languages (String);\n",
       "}"
      ]
     },
     "execution_count": 1,
     "metadata": {},
     "output_type": "execute_result"
    }
   ],
   "source": [
    "import pyarrow as pa\n",
    "import pyarrow.parquet as pq\n",
    "\n",
    "dataset = pq.ParquetDataset('data-sourcing-sheet/cc/', filters=[('subset', '=', 'warc')])\n",
    "\n",
    "dataset.schema"
   ]
  },
  {
   "cell_type": "code",
   "execution_count": 2,
   "id": "descending-blood",
   "metadata": {},
   "outputs": [],
   "source": [
    "# read only two columns (the two partitioning columns \"crawl\" and \"subset\" are included as well)\n",
    "table = dataset.read(columns=['id', 'url'])"
   ]
  },
  {
   "cell_type": "code",
   "execution_count": 3,
   "id": "impressive-hostel",
   "metadata": {},
   "outputs": [
    {
     "data": {
      "text/plain": [
       "(35410516, 4)"
      ]
     },
     "execution_count": 3,
     "metadata": {},
     "output_type": "execute_result"
    }
   ],
   "source": [
    "table.shape"
   ]
  },
  {
   "cell_type": "code",
   "execution_count": 4,
   "id": "amended-compensation",
   "metadata": {},
   "outputs": [
    {
     "data": {
      "text/plain": [
       "['id', 'url', 'crawl', 'subset']"
      ]
     },
     "execution_count": 4,
     "metadata": {},
     "output_type": "execute_result"
    }
   ],
   "source": [
    "table.column_names"
   ]
  },
  {
   "cell_type": "code",
   "execution_count": 5,
   "id": "african-israeli",
   "metadata": {},
   "outputs": [
    {
     "name": "stdout",
     "output_type": "stream",
     "text": [
      "https://www.latribunadealbacete.es/GaleriaDetalle.aspx?g=ZD56B811C-CEFD-3C9C-F5664489815E81EE&f=D57979D4-BB46-2EF1-CA526BDAAFC8364F\n"
     ]
    }
   ],
   "source": [
    "# iterate over values of a single column\n",
    "for url in table['url']:\n",
    "    print(url)\n",
    "    break"
   ]
  },
  {
   "cell_type": "code",
   "execution_count": 6,
   "id": "mexican-tattoo",
   "metadata": {},
   "outputs": [
    {
     "data": {
      "text/html": [
       "<div>\n",
       "<style scoped>\n",
       "    .dataframe tbody tr th:only-of-type {\n",
       "        vertical-align: middle;\n",
       "    }\n",
       "\n",
       "    .dataframe tbody tr th {\n",
       "        vertical-align: top;\n",
       "    }\n",
       "\n",
       "    .dataframe thead th {\n",
       "        text-align: right;\n",
       "    }\n",
       "</style>\n",
       "<table border=\"1\" class=\"dataframe\">\n",
       "  <thead>\n",
       "    <tr style=\"text-align: right;\">\n",
       "      <th></th>\n",
       "      <th>id</th>\n",
       "      <th>url</th>\n",
       "      <th>crawl</th>\n",
       "      <th>subset</th>\n",
       "    </tr>\n",
       "  </thead>\n",
       "  <tbody>\n",
       "    <tr>\n",
       "      <th>10828179</th>\n",
       "      <td>90</td>\n",
       "      <td>https://peru.com/actualidad/economia-y-finanza...</td>\n",
       "      <td>CC-MAIN-2020-34</td>\n",
       "      <td>warc</td>\n",
       "    </tr>\n",
       "    <tr>\n",
       "      <th>2135420</th>\n",
       "      <td>358</td>\n",
       "      <td>https://www.laverdad.es/loteriadenavidad/local...</td>\n",
       "      <td>CC-MAIN-2020-10</td>\n",
       "      <td>warc</td>\n",
       "    </tr>\n",
       "    <tr>\n",
       "      <th>8404237</th>\n",
       "      <td>22</td>\n",
       "      <td>https://www.clubinfluencers.com/los-esports-se...</td>\n",
       "      <td>CC-MAIN-2020-29</td>\n",
       "      <td>warc</td>\n",
       "    </tr>\n",
       "    <tr>\n",
       "      <th>28463197</th>\n",
       "      <td>396</td>\n",
       "      <td>https://www.eldiario.es/opinion/zona-critica/a...</td>\n",
       "      <td>CC-MAIN-2021-31</td>\n",
       "      <td>warc</td>\n",
       "    </tr>\n",
       "    <tr>\n",
       "      <th>31588496</th>\n",
       "      <td>281</td>\n",
       "      <td>https://www.cmdsport.com/nieve/competiciones-n...</td>\n",
       "      <td>CC-MAIN-2021-43</td>\n",
       "      <td>warc</td>\n",
       "    </tr>\n",
       "    <tr>\n",
       "      <th>32542315</th>\n",
       "      <td>276</td>\n",
       "      <td>http://radio.uchile.cl/2017/09/03/candidatos-a...</td>\n",
       "      <td>CC-MAIN-2021-43</td>\n",
       "      <td>warc</td>\n",
       "    </tr>\n",
       "    <tr>\n",
       "      <th>5759847</th>\n",
       "      <td>357</td>\n",
       "      <td>http://ntrzacatecas.com/temas/sezami/</td>\n",
       "      <td>CC-MAIN-2020-24</td>\n",
       "      <td>warc</td>\n",
       "    </tr>\n",
       "    <tr>\n",
       "      <th>25256106</th>\n",
       "      <td>503</td>\n",
       "      <td>https://www.zaobao.com.sg/keywords/mai-dang-lao</td>\n",
       "      <td>CC-MAIN-2021-21</td>\n",
       "      <td>warc</td>\n",
       "    </tr>\n",
       "    <tr>\n",
       "      <th>14956664</th>\n",
       "      <td>262</td>\n",
       "      <td>https://www.rtve.es/alacarta/videos/telediario...</td>\n",
       "      <td>CC-MAIN-2020-45</td>\n",
       "      <td>warc</td>\n",
       "    </tr>\n",
       "    <tr>\n",
       "      <th>35255396</th>\n",
       "      <td>325</td>\n",
       "      <td>https://www.laprensa.hn/honduras/omar-rivera-c...</td>\n",
       "      <td>CC-MAIN-2021-49</td>\n",
       "      <td>warc</td>\n",
       "    </tr>\n",
       "  </tbody>\n",
       "</table>\n",
       "</div>"
      ],
      "text/plain": [
       "           id                                                url  \\\n",
       "10828179   90  https://peru.com/actualidad/economia-y-finanza...   \n",
       "2135420   358  https://www.laverdad.es/loteriadenavidad/local...   \n",
       "8404237    22  https://www.clubinfluencers.com/los-esports-se...   \n",
       "28463197  396  https://www.eldiario.es/opinion/zona-critica/a...   \n",
       "31588496  281  https://www.cmdsport.com/nieve/competiciones-n...   \n",
       "32542315  276  http://radio.uchile.cl/2017/09/03/candidatos-a...   \n",
       "5759847   357              http://ntrzacatecas.com/temas/sezami/   \n",
       "25256106  503    https://www.zaobao.com.sg/keywords/mai-dang-lao   \n",
       "14956664  262  https://www.rtve.es/alacarta/videos/telediario...   \n",
       "35255396  325  https://www.laprensa.hn/honduras/omar-rivera-c...   \n",
       "\n",
       "                    crawl subset  \n",
       "10828179  CC-MAIN-2020-34   warc  \n",
       "2135420   CC-MAIN-2020-10   warc  \n",
       "8404237   CC-MAIN-2020-29   warc  \n",
       "28463197  CC-MAIN-2021-31   warc  \n",
       "31588496  CC-MAIN-2021-43   warc  \n",
       "32542315  CC-MAIN-2021-43   warc  \n",
       "5759847   CC-MAIN-2020-24   warc  \n",
       "25256106  CC-MAIN-2021-21   warc  \n",
       "14956664  CC-MAIN-2020-45   warc  \n",
       "35255396  CC-MAIN-2021-49   warc  "
      ]
     },
     "execution_count": 6,
     "metadata": {},
     "output_type": "execute_result"
    }
   ],
   "source": [
    "# convert to pandas DataFrame\n",
    "df = table.to_pandas()\n",
    "\n",
    "df.sample(10)"
   ]
  }
 ],
 "metadata": {
  "kernelspec": {
   "display_name": "Python 3",
   "language": "python",
   "name": "python3"
  },
  "language_info": {
   "codemirror_mode": {
    "name": "ipython",
    "version": 3
   },
   "file_extension": ".py",
   "mimetype": "text/x-python",
   "name": "python",
   "nbconvert_exporter": "python",
   "pygments_lexer": "ipython3",
   "version": "3.9.7"
  }
 },
 "nbformat": 4,
 "nbformat_minor": 5
}
